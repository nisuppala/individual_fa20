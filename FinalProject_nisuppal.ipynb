{
 "cells": [
  {
   "cell_type": "markdown",
   "metadata": {},
   "source": [
    "# COGS 108 - Final Project "
   ]
  },
  {
   "cell_type": "markdown",
   "metadata": {},
   "source": [
    "# Overview"
   ]
  },
  {
   "cell_type": "markdown",
   "metadata": {},
   "source": [
    "When discussing the issue of whether San Diego County should allocate funding to create new parks or update existing one, the data supports that most parks in San Diego are in good shape. Their are reports of unsatisfactory facilities in some areas, but the data does not support it. San Diego County can make the decision to create new parks without detriment to it's citizens."
   ]
  },
  {
   "cell_type": "markdown",
   "metadata": {},
   "source": [
    "# Name & GitHub\n",
    "\n",
    "- Name: Nihal Suppala\n",
    "- GitHub Username: nisuppala"
   ]
  },
  {
   "cell_type": "markdown",
   "metadata": {},
   "source": [
    "# Research Question"
   ]
  },
  {
   "cell_type": "markdown",
   "metadata": {},
   "source": [
    "Should the city of San Diego use taxpayer money to construct new parks or update and maintain old ones?"
   ]
  },
  {
   "cell_type": "markdown",
   "metadata": {},
   "source": [
    "## Background and Prior Work"
   ]
  },
  {
   "cell_type": "markdown",
   "metadata": {},
   "source": [
    "San Diego has recently put forward a new plan to overhaul their city parks (1). They are commiting a large amount of taxpayer money to upgrade and create parks. The San Diego Union Tribune reports that average amount of park space throughout the county is 2.8 acres for every 1000 people. San Diego residents seems to already have a problem with their existing parks (2), many clearly stating that their are large inequities between parks in lower vs higher income areas in regards to equipment, ammenities, and well as space provided. The Union Tribune states that the city of San Diego rates its parks on a point basis with takes into account size, featues, and accesibility. The city of San Diego claims they will be creating parks to reach a 12 on their scale. \n",
    "\n",
    "References (include links):\n",
    "- 1)https://www.sandiegouniontribune.com/business/growth-development/story/2020-04-24/san-diego-shakes-up-citywide-approach-to-parks-with-focus-on-access-amenities\n",
    "- 2)https://www.voiceofsandiego.org/topics/opinion/new-plan-for-city-parks-misses-the-point/"
   ]
  },
  {
   "cell_type": "markdown",
   "metadata": {},
   "source": [
    "# Hypothesis\n"
   ]
  },
  {
   "cell_type": "markdown",
   "metadata": {},
   "source": [
    "I believe that the data provided from acres of park land provied per 1,000 people and surveys concerning public satisfaction will determine that San Diego should update existing parks rather than creating new ones."
   ]
  },
  {
   "cell_type": "markdown",
   "metadata": {},
   "source": [
    "# Dataset(s)"
   ]
  },
  {
   "cell_type": "markdown",
   "metadata": {},
   "source": [
    "- Dataset Name: Yelp Data for San Diego Parks\n",
    "- Link to the dataset:https://www.yelp.com/developers/documentation/v3/business_search\n",
    "- Number of observations: 833\n",
    "\n",
    "The above csv file displays Yelp ratings for every park in San Diego County. It displays name, address, average rating, number of ratings, and locational position."
   ]
  },
  {
   "cell_type": "markdown",
   "metadata": {},
   "source": [
    "# Setup"
   ]
  },
  {
   "cell_type": "code",
   "execution_count": 1,
   "metadata": {},
   "outputs": [],
   "source": [
    "# Imports \n",
    "%matplotlib inline\n",
    "\n",
    "import numpy as np\n",
    "import pandas as pd\n",
    "import matplotlib.pyplot as plt\n",
    "\n",
    "import seaborn as sns\n",
    "sns.set()\n",
    "sns.set_context('talk')\n",
    "\n",
    "import warnings\n",
    "warnings.filterwarnings('ignore')\n",
    "\n",
    "import patsy\n",
    "import statsmodels.api as sm\n",
    "import scipy.stats as stats\n",
    "from scipy.stats import ttest_ind, chisquare, normaltest\n",
    "\n",
    "import requests\n",
    "import io"
   ]
  },
  {
   "cell_type": "code",
   "execution_count": 2,
   "metadata": {},
   "outputs": [
    {
     "name": "stdout",
     "output_type": "stream",
     "text": [
      "                name                                       address  \\\n",
      "0        Balboa Park             1549 El Prado San Diego, CA 92101   \n",
      "1        Civita Park          7960 Civita Blvd San Diego, CA 92108   \n",
      "2    Waterfront Park          1600 Pacific Hwy San Diego, CA 92101   \n",
      "3  Trolley Barn Park  Adams Ave And Florida St San Diego, CA 92116   \n",
      "4      Bay View Park                 413 1st St Coronado, CA 92118   \n",
      "\n",
      "          phone                      id  \\\n",
      "0  1.619239e+10  9M_FW_-Ipx93I36w-_ykBg   \n",
      "1           NaN  3AEHjqNrTmggA6G9VdhQfg   \n",
      "2  1.619233e+10  3unbJeYrn1RmInZGmjp80g   \n",
      "3           NaN  PvHxIYrmaiFKdWUDTMDzcg   \n",
      "4           NaN  6IF4VB9-fkv_F-LBvG8ppQ   \n",
      "\n",
      "                                                 url  rating  review_count  \\\n",
      "0  https://www.yelp.com/biz/balboa-park-san-diego...     5.0          2105   \n",
      "1  https://www.yelp.com/biz/civita-park-san-diego...     4.5            46   \n",
      "2  https://www.yelp.com/biz/waterfront-park-san-d...     4.5           242   \n",
      "3  https://www.yelp.com/biz/trolley-barn-park-san...     4.5           102   \n",
      "4  https://www.yelp.com/biz/bay-view-park-coronad...     5.0            42   \n",
      "\n",
      "    longitude   latitude  is_closed  \n",
      "0 -117.153150  32.734502      False  \n",
      "1 -117.147278  32.778315      False  \n",
      "2 -117.172479  32.721952      False  \n",
      "3 -117.143789  32.762463      False  \n",
      "4 -117.178967  32.701785      False  \n"
     ]
    }
   ],
   "source": [
    "url = 'https://raw.githubusercontent.com/COGS108/individual_fa20/master/data/yelp_SD_parks.csv'\n",
    "download = requests.get(url).content\n",
    "\n",
    "df = pd.read_csv(io.StringIO(download.decode('utf-8')))\n",
    "\n",
    "print(df.head())"
   ]
  },
  {
   "cell_type": "markdown",
   "metadata": {},
   "source": [
    "# Data Cleaning"
   ]
  },
  {
   "cell_type": "markdown",
   "metadata": {},
   "source": [
    "Describe your data cleaning steps here."
   ]
  },
  {
   "cell_type": "code",
   "execution_count": 3,
   "metadata": {},
   "outputs": [
    {
     "name": "stdout",
     "output_type": "stream",
     "text": [
      "                name                                       address  rating  \\\n",
      "0        Balboa Park             1549 El Prado San Diego, CA 92101     5.0   \n",
      "1        Civita Park          7960 Civita Blvd San Diego, CA 92108     4.5   \n",
      "2    Waterfront Park          1600 Pacific Hwy San Diego, CA 92101     4.5   \n",
      "3  Trolley Barn Park  Adams Ave And Florida St San Diego, CA 92116     4.5   \n",
      "4      Bay View Park                 413 1st St Coronado, CA 92118     5.0   \n",
      "\n",
      "   review_count  \n",
      "0          2105  \n",
      "1            46  \n",
      "2           242  \n",
      "3           102  \n",
      "4            42  \n"
     ]
    }
   ],
   "source": [
    "#getting rid of colums that we don't need\n",
    "df = df.drop(['phone', 'id', 'url', 'is_closed', 'longitude', 'latitude'], axis=1)\n",
    "print(df.head())"
   ]
  },
  {
   "cell_type": "code",
   "execution_count": 4,
   "metadata": {},
   "outputs": [
    {
     "name": "stdout",
     "output_type": "stream",
     "text": [
      "                name                                       address  rating  \\\n",
      "0        Balboa Park             1549 El Prado San Diego, CA 92101     5.0   \n",
      "1        Civita Park          7960 Civita Blvd San Diego, CA 92108     4.5   \n",
      "2    Waterfront Park          1600 Pacific Hwy San Diego, CA 92101     4.5   \n",
      "3  Trolley Barn Park  Adams Ave And Florida St San Diego, CA 92116     4.5   \n",
      "4      Bay View Park                 413 1st St Coronado, CA 92118     5.0   \n",
      "\n",
      "   review_count zipcode  \n",
      "0          2105   92101  \n",
      "1            46   92108  \n",
      "2           242   92101  \n",
      "3           102   92116  \n",
      "4            42   92118  \n"
     ]
    }
   ],
   "source": [
    "#adding a new zipcode column for further use\n",
    "df['zipcode'] = df['address'].str[-5:]\n",
    "print(df.head())"
   ]
  },
  {
   "cell_type": "code",
   "execution_count": 5,
   "metadata": {},
   "outputs": [
    {
     "name": "stdout",
     "output_type": "stream",
     "text": [
      "                name                                       address zipcode  \\\n",
      "0        Balboa Park             1549 El Prado San Diego, CA 92101   92101   \n",
      "1        Civita Park          7960 Civita Blvd San Diego, CA 92108   92108   \n",
      "2    Waterfront Park          1600 Pacific Hwy San Diego, CA 92101   92101   \n",
      "3  Trolley Barn Park  Adams Ave And Florida St San Diego, CA 92116   92116   \n",
      "4      Bay View Park                 413 1st St Coronado, CA 92118   92118   \n",
      "\n",
      "   rating  review_count  \n",
      "0     5.0          2105  \n",
      "1     4.5            46  \n",
      "2     4.5           242  \n",
      "3     4.5           102  \n",
      "4     5.0            42  \n"
     ]
    }
   ],
   "source": [
    "#ordering columns\n",
    "df = df[['name','address','zipcode','rating', 'review_count']]\n",
    "print(df.head())"
   ]
  },
  {
   "cell_type": "code",
   "execution_count": 6,
   "metadata": {},
   "outputs": [
    {
     "data": {
      "text/html": [
       "<div>\n",
       "<style scoped>\n",
       "    .dataframe tbody tr th:only-of-type {\n",
       "        vertical-align: middle;\n",
       "    }\n",
       "\n",
       "    .dataframe tbody tr th {\n",
       "        vertical-align: top;\n",
       "    }\n",
       "\n",
       "    .dataframe thead th {\n",
       "        text-align: right;\n",
       "    }\n",
       "</style>\n",
       "<table border=\"1\" class=\"dataframe\">\n",
       "  <thead>\n",
       "    <tr style=\"text-align: right;\">\n",
       "      <th></th>\n",
       "      <th>name</th>\n",
       "      <th>address</th>\n",
       "      <th>zipcode</th>\n",
       "      <th>rating</th>\n",
       "      <th>review_count</th>\n",
       "    </tr>\n",
       "  </thead>\n",
       "  <tbody>\n",
       "    <tr>\n",
       "      <th>572</th>\n",
       "      <td>Vista Terrace Neighborhood Park</td>\n",
       "      <td>301 Athey Ave San Ysidro, CA 92173</td>\n",
       "      <td>92173</td>\n",
       "      <td>1.0</td>\n",
       "      <td>1</td>\n",
       "    </tr>\n",
       "    <tr>\n",
       "      <th>692</th>\n",
       "      <td>Aurora At Riviera Del Sol Hoa</td>\n",
       "      <td>Otay Mesa San Diego, CA 92154</td>\n",
       "      <td>92154</td>\n",
       "      <td>1.0</td>\n",
       "      <td>1</td>\n",
       "    </tr>\n",
       "    <tr>\n",
       "      <th>506</th>\n",
       "      <td>Penasquitas Casa Blanca</td>\n",
       "      <td>9404 Twin Trails Dr San Diego, CA 92129</td>\n",
       "      <td>92129</td>\n",
       "      <td>1.0</td>\n",
       "      <td>1</td>\n",
       "    </tr>\n",
       "    <tr>\n",
       "      <th>134</th>\n",
       "      <td>City of Lakeside</td>\n",
       "      <td>12652 Woodside Ave Lakeside, CA 92040</td>\n",
       "      <td>92040</td>\n",
       "      <td>1.0</td>\n",
       "      <td>1</td>\n",
       "    </tr>\n",
       "    <tr>\n",
       "      <th>393</th>\n",
       "      <td>Carriage House</td>\n",
       "      <td>4570 54th St San Diego, CA 92115</td>\n",
       "      <td>92115</td>\n",
       "      <td>1.0</td>\n",
       "      <td>2</td>\n",
       "    </tr>\n",
       "    <tr>\n",
       "      <th>...</th>\n",
       "      <td>...</td>\n",
       "      <td>...</td>\n",
       "      <td>...</td>\n",
       "      <td>...</td>\n",
       "      <td>...</td>\n",
       "    </tr>\n",
       "    <tr>\n",
       "      <th>547</th>\n",
       "      <td>Keiller Leadership Academy</td>\n",
       "      <td>7270 Lisbon St San Diego, CA 92114</td>\n",
       "      <td>92114</td>\n",
       "      <td>5.0</td>\n",
       "      <td>2</td>\n",
       "    </tr>\n",
       "    <tr>\n",
       "      <th>549</th>\n",
       "      <td>Brown's Grove</td>\n",
       "      <td>7245 Calle Cristobal San Diego, CA 92126</td>\n",
       "      <td>92126</td>\n",
       "      <td>5.0</td>\n",
       "      <td>1</td>\n",
       "    </tr>\n",
       "    <tr>\n",
       "      <th>555</th>\n",
       "      <td>Hector Martinez - Century 21st 1st Choice Realty</td>\n",
       "      <td>3091 Clairemont Dr San Diego, CA 92117</td>\n",
       "      <td>92117</td>\n",
       "      <td>5.0</td>\n",
       "      <td>1</td>\n",
       "    </tr>\n",
       "    <tr>\n",
       "      <th>592</th>\n",
       "      <td>San Dieguito River Park</td>\n",
       "      <td>15535 San Andres Dr Del Mar, CA 92014</td>\n",
       "      <td>92014</td>\n",
       "      <td>5.0</td>\n",
       "      <td>4</td>\n",
       "    </tr>\n",
       "    <tr>\n",
       "      <th>832</th>\n",
       "      <td>Fairbrook Farm</td>\n",
       "      <td>4949 S Mission Rd Fallbrook, CA 92028</td>\n",
       "      <td>92028</td>\n",
       "      <td>5.0</td>\n",
       "      <td>1</td>\n",
       "    </tr>\n",
       "  </tbody>\n",
       "</table>\n",
       "<p>833 rows × 5 columns</p>\n",
       "</div>"
      ],
      "text/plain": [
       "                                                 name  \\\n",
       "572                   Vista Terrace Neighborhood Park   \n",
       "692                     Aurora At Riviera Del Sol Hoa   \n",
       "506                           Penasquitas Casa Blanca   \n",
       "134                                  City of Lakeside   \n",
       "393                                    Carriage House   \n",
       "..                                                ...   \n",
       "547                        Keiller Leadership Academy   \n",
       "549                                     Brown's Grove   \n",
       "555  Hector Martinez - Century 21st 1st Choice Realty   \n",
       "592                           San Dieguito River Park   \n",
       "832                                    Fairbrook Farm   \n",
       "\n",
       "                                      address zipcode  rating  review_count  \n",
       "572        301 Athey Ave San Ysidro, CA 92173   92173     1.0             1  \n",
       "692             Otay Mesa San Diego, CA 92154   92154     1.0             1  \n",
       "506   9404 Twin Trails Dr San Diego, CA 92129   92129     1.0             1  \n",
       "134     12652 Woodside Ave Lakeside, CA 92040   92040     1.0             1  \n",
       "393          4570 54th St San Diego, CA 92115   92115     1.0             2  \n",
       "..                                        ...     ...     ...           ...  \n",
       "547        7270 Lisbon St San Diego, CA 92114   92114     5.0             2  \n",
       "549  7245 Calle Cristobal San Diego, CA 92126   92126     5.0             1  \n",
       "555    3091 Clairemont Dr San Diego, CA 92117   92117     5.0             1  \n",
       "592     15535 San Andres Dr Del Mar, CA 92014   92014     5.0             4  \n",
       "832     4949 S Mission Rd Fallbrook, CA 92028   92028     5.0             1  \n",
       "\n",
       "[833 rows x 5 columns]"
      ]
     },
     "execution_count": 6,
     "metadata": {},
     "output_type": "execute_result"
    }
   ],
   "source": [
    "df.sort_values(by='rating', ascending=True)"
   ]
  },
  {
   "cell_type": "markdown",
   "metadata": {},
   "source": [
    "# Data Analysis & Results"
   ]
  },
  {
   "cell_type": "markdown",
   "metadata": {},
   "source": [
    "Include cells that describe the steps in your data analysis."
   ]
  },
  {
   "cell_type": "code",
   "execution_count": 7,
   "metadata": {},
   "outputs": [
    {
     "data": {
      "text/plain": [
       "4.5    230\n",
       "4.0    211\n",
       "5.0    149\n",
       "3.5    133\n",
       "3.0     54\n",
       "2.5     28\n",
       "2.0     11\n",
       "1.5      9\n",
       "1.0      8\n",
       "Name: rating, dtype: int64"
      ]
     },
     "execution_count": 7,
     "metadata": {},
     "output_type": "execute_result"
    }
   ],
   "source": [
    "df['rating'].value_counts()"
   ]
  },
  {
   "cell_type": "markdown",
   "metadata": {},
   "source": [
    "Displays the number of rating from 1-5. 3 is an average score (Yelp describes it as a place some would go and others wouldn't). A park with an average rating of 3 or below means that the community is dissatified with it. There are 110 below satifactory parks, this is 13% of the parks in San Diego."
   ]
  },
  {
   "cell_type": "code",
   "execution_count": 8,
   "metadata": {},
   "outputs": [
    {
     "name": "stdout",
     "output_type": "stream",
     "text": [
      "                         name                                        address  \\\n",
      "62        The Children's Park            326 W Harbor Dr San Diego, CA 92101   \n",
      "98   Edward Tyler Cramer Park        5947 Linda Vista Rd San Diego, CA 92110   \n",
      "113   Mission Bay Golf Course      2702 N Mission Bay Dr San Diego, CA 92109   \n",
      "121          Kearny Mesa Park          3170 Armstrong St San Diego, CA 92111   \n",
      "125    Dog Park at Doyle Park  Decoro St And Cargill Ave San Diego, CA 92122   \n",
      "\n",
      "    zipcode  rating  review_count  \n",
      "62    92101     3.0             9  \n",
      "98    92110     3.0             3  \n",
      "113   92109     3.0            97  \n",
      "121   92111     3.0             4  \n",
      "125   92122     3.0            20  \n"
     ]
    }
   ],
   "source": [
    "df_under3 = df.loc[df['rating'] <= 3]\n",
    "print(df_under3.head())"
   ]
  },
  {
   "cell_type": "code",
   "execution_count": 9,
   "metadata": {},
   "outputs": [],
   "source": [
    "#dropping rows with Mexico in address\n",
    "df_under3.drop(df_under3[df_under3['zipcode'] == 'exico'].index, inplace = True) "
   ]
  },
  {
   "cell_type": "code",
   "execution_count": 10,
   "metadata": {},
   "outputs": [
    {
     "data": {
      "text/html": [
       "<div>\n",
       "<style scoped>\n",
       "    .dataframe tbody tr th:only-of-type {\n",
       "        vertical-align: middle;\n",
       "    }\n",
       "\n",
       "    .dataframe tbody tr th {\n",
       "        vertical-align: top;\n",
       "    }\n",
       "\n",
       "    .dataframe thead th {\n",
       "        text-align: right;\n",
       "    }\n",
       "</style>\n",
       "<table border=\"1\" class=\"dataframe\">\n",
       "  <thead>\n",
       "    <tr style=\"text-align: right;\">\n",
       "      <th></th>\n",
       "      <th>name</th>\n",
       "      <th>address</th>\n",
       "      <th>zipcode</th>\n",
       "      <th>rating</th>\n",
       "      <th>review_count</th>\n",
       "    </tr>\n",
       "  </thead>\n",
       "  <tbody>\n",
       "    <tr>\n",
       "      <th>568</th>\n",
       "      <td>Lakeview Mobile Estates</td>\n",
       "      <td>809 Discovery St Spc 28 San Marcos, CA 92078</td>\n",
       "      <td>92078</td>\n",
       "      <td>1.0</td>\n",
       "      <td>1</td>\n",
       "    </tr>\n",
       "    <tr>\n",
       "      <th>393</th>\n",
       "      <td>Carriage House</td>\n",
       "      <td>4570 54th St San Diego, CA 92115</td>\n",
       "      <td>92115</td>\n",
       "      <td>1.0</td>\n",
       "      <td>2</td>\n",
       "    </tr>\n",
       "    <tr>\n",
       "      <th>545</th>\n",
       "      <td>Casa La Paz Apartments</td>\n",
       "      <td>370 K St Chula Vista, CA 91911</td>\n",
       "      <td>91911</td>\n",
       "      <td>1.0</td>\n",
       "      <td>5</td>\n",
       "    </tr>\n",
       "    <tr>\n",
       "      <th>572</th>\n",
       "      <td>Vista Terrace Neighborhood Park</td>\n",
       "      <td>301 Athey Ave San Ysidro, CA 92173</td>\n",
       "      <td>92173</td>\n",
       "      <td>1.0</td>\n",
       "      <td>1</td>\n",
       "    </tr>\n",
       "    <tr>\n",
       "      <th>134</th>\n",
       "      <td>City of Lakeside</td>\n",
       "      <td>12652 Woodside Ave Lakeside, CA 92040</td>\n",
       "      <td>92040</td>\n",
       "      <td>1.0</td>\n",
       "      <td>1</td>\n",
       "    </tr>\n",
       "    <tr>\n",
       "      <th>...</th>\n",
       "      <td>...</td>\n",
       "      <td>...</td>\n",
       "      <td>...</td>\n",
       "      <td>...</td>\n",
       "      <td>...</td>\n",
       "    </tr>\n",
       "    <tr>\n",
       "      <th>379</th>\n",
       "      <td>Mashcole Property Management</td>\n",
       "      <td>4764 Park Granada Ste 200 Calabasas, CA 91302</td>\n",
       "      <td>91302</td>\n",
       "      <td>3.0</td>\n",
       "      <td>152</td>\n",
       "    </tr>\n",
       "    <tr>\n",
       "      <th>344</th>\n",
       "      <td>True North Tavern</td>\n",
       "      <td>3815 30th St San Diego, CA 92104</td>\n",
       "      <td>92104</td>\n",
       "      <td>3.0</td>\n",
       "      <td>1211</td>\n",
       "    </tr>\n",
       "    <tr>\n",
       "      <th>340</th>\n",
       "      <td>The Shops at La Jolla Village</td>\n",
       "      <td>8800 Villa La Jolla Dr La Jolla, CA 92037</td>\n",
       "      <td>92037</td>\n",
       "      <td>3.0</td>\n",
       "      <td>18</td>\n",
       "    </tr>\n",
       "    <tr>\n",
       "      <th>403</th>\n",
       "      <td>Jerabek Park</td>\n",
       "      <td>10200 Scripps Trl San Diego, CA 92131</td>\n",
       "      <td>92131</td>\n",
       "      <td>3.0</td>\n",
       "      <td>6</td>\n",
       "    </tr>\n",
       "    <tr>\n",
       "      <th>831</th>\n",
       "      <td>Ann D. L'Heureux Memorial Dog Park</td>\n",
       "      <td>2700 Carlsbad Village Dr Carlsbad, CA 92008</td>\n",
       "      <td>92008</td>\n",
       "      <td>3.0</td>\n",
       "      <td>50</td>\n",
       "    </tr>\n",
       "  </tbody>\n",
       "</table>\n",
       "<p>109 rows × 5 columns</p>\n",
       "</div>"
      ],
      "text/plain": [
       "                                   name  \\\n",
       "568             Lakeview Mobile Estates   \n",
       "393                      Carriage House   \n",
       "545              Casa La Paz Apartments   \n",
       "572     Vista Terrace Neighborhood Park   \n",
       "134                    City of Lakeside   \n",
       "..                                  ...   \n",
       "379        Mashcole Property Management   \n",
       "344                   True North Tavern   \n",
       "340       The Shops at La Jolla Village   \n",
       "403                        Jerabek Park   \n",
       "831  Ann D. L'Heureux Memorial Dog Park   \n",
       "\n",
       "                                           address zipcode  rating  \\\n",
       "568   809 Discovery St Spc 28 San Marcos, CA 92078   92078     1.0   \n",
       "393               4570 54th St San Diego, CA 92115   92115     1.0   \n",
       "545                 370 K St Chula Vista, CA 91911   91911     1.0   \n",
       "572             301 Athey Ave San Ysidro, CA 92173   92173     1.0   \n",
       "134          12652 Woodside Ave Lakeside, CA 92040   92040     1.0   \n",
       "..                                             ...     ...     ...   \n",
       "379  4764 Park Granada Ste 200 Calabasas, CA 91302   91302     3.0   \n",
       "344               3815 30th St San Diego, CA 92104   92104     3.0   \n",
       "340      8800 Villa La Jolla Dr La Jolla, CA 92037   92037     3.0   \n",
       "403          10200 Scripps Trl San Diego, CA 92131   92131     3.0   \n",
       "831    2700 Carlsbad Village Dr Carlsbad, CA 92008   92008     3.0   \n",
       "\n",
       "     review_count  \n",
       "568             1  \n",
       "393             2  \n",
       "545             5  \n",
       "572             1  \n",
       "134             1  \n",
       "..            ...  \n",
       "379           152  \n",
       "344          1211  \n",
       "340            18  \n",
       "403             6  \n",
       "831            50  \n",
       "\n",
       "[109 rows x 5 columns]"
      ]
     },
     "execution_count": 10,
     "metadata": {},
     "output_type": "execute_result"
    }
   ],
   "source": [
    "df_under3.sort_values(by='rating', ascending=True)"
   ]
  },
  {
   "cell_type": "code",
   "execution_count": 11,
   "metadata": {},
   "outputs": [
    {
     "data": {
      "text/plain": [
       "92101    16\n",
       "92108     8\n",
       "92122     8\n",
       "92110     6\n",
       "92103     5\n",
       "92115     4\n",
       "92154     4\n",
       "92104     4\n",
       "92109     4\n",
       "92173     3\n",
       "92117     3\n",
       "92121     2\n",
       "92008     2\n",
       "92123     2\n",
       "91977     2\n",
       "92124     2\n",
       "92064     2\n",
       "92129     2\n",
       "91910     2\n",
       "92037     2\n",
       "92120     1\n",
       "92113     1\n",
       "92126     1\n",
       "91913     1\n",
       "92127     1\n",
       "92025     1\n",
       "92020     1\n",
       "91302     1\n",
       "91950     1\n",
       "92128     1\n",
       "92139     1\n",
       "92131     1\n",
       "92106     1\n",
       "92102     1\n",
       "91941     1\n",
       "92078     1\n",
       "92040     1\n",
       "92111     1\n",
       "92105     1\n",
       "92083     1\n",
       "91911     1\n",
       "91942     1\n",
       "92130     1\n",
       "92054     1\n",
       "91902     1\n",
       "92116     1\n",
       "Name: zipcode, dtype: int64"
      ]
     },
     "execution_count": 11,
     "metadata": {},
     "output_type": "execute_result"
    }
   ],
   "source": [
    "df_under3['zipcode'].value_counts()"
   ]
  },
  {
   "cell_type": "markdown",
   "metadata": {},
   "source": [
    "There are a few zipcodes with a significatly higher number of below satifactory parks (92101, 92108)."
   ]
  },
  {
   "cell_type": "code",
   "execution_count": 12,
   "metadata": {},
   "outputs": [
    {
     "data": {
      "text/plain": [
       "array([[<matplotlib.axes._subplots.AxesSubplot object at 0x7f8a000c33d0>,\n",
       "        <matplotlib.axes._subplots.AxesSubplot object at 0x7f893d7f17d0>],\n",
       "       [<matplotlib.axes._subplots.AxesSubplot object at 0x7f893d7aae50>,\n",
       "        <matplotlib.axes._subplots.AxesSubplot object at 0x7f893f90ecd0>]],\n",
       "      dtype=object)"
      ]
     },
     "execution_count": 12,
     "metadata": {},
     "output_type": "execute_result"
    },
    {
     "data": {
      "image/png": "[encoded data removed]",
      "text/plain": [
       "<Figure size 576x432 with 4 Axes>"
      ]
     },
     "metadata": {},
     "output_type": "display_data"
    }
   ],
   "source": [
    "pd.plotting.scatter_matrix(df_under3, figsize = (8, 6))"
   ]
  },
  {
   "cell_type": "markdown",
   "metadata": {},
   "source": [
    "Most reviews are of an average score. There are only a few much below average (1-2)."
   ]
  },
  {
   "cell_type": "code",
   "execution_count": 13,
   "metadata": {},
   "outputs": [
    {
     "name": "stdout",
     "output_type": "stream",
     "text": [
      "                name                                       address zipcode  \\\n",
      "0        Balboa Park             1549 El Prado San Diego, CA 92101   92101   \n",
      "1        Civita Park          7960 Civita Blvd San Diego, CA 92108   92108   \n",
      "2    Waterfront Park          1600 Pacific Hwy San Diego, CA 92101   92101   \n",
      "3  Trolley Barn Park  Adams Ave And Florida St San Diego, CA 92116   92116   \n",
      "4      Bay View Park                 413 1st St Coronado, CA 92118   92118   \n",
      "\n",
      "   rating  review_count  \n",
      "0     5.0          2105  \n",
      "1     4.5            46  \n",
      "2     4.5           242  \n",
      "3     4.5           102  \n",
      "4     5.0            42  \n"
     ]
    }
   ],
   "source": [
    "df_over3 = df.loc[df['rating'] >= 3]\n",
    "print(df_over3.head())"
   ]
  },
  {
   "cell_type": "code",
   "execution_count": 14,
   "metadata": {},
   "outputs": [],
   "source": [
    "#dropping rows with Mexico in address\n",
    "df_over3.drop(df_over3[df_over3['zipcode'] == 'exico'].index, inplace = True) "
   ]
  },
  {
   "cell_type": "code",
   "execution_count": 15,
   "metadata": {},
   "outputs": [
    {
     "data": {
      "text/html": [
       "<div>\n",
       "<style scoped>\n",
       "    .dataframe tbody tr th:only-of-type {\n",
       "        vertical-align: middle;\n",
       "    }\n",
       "\n",
       "    .dataframe tbody tr th {\n",
       "        vertical-align: top;\n",
       "    }\n",
       "\n",
       "    .dataframe thead th {\n",
       "        text-align: right;\n",
       "    }\n",
       "</style>\n",
       "<table border=\"1\" class=\"dataframe\">\n",
       "  <thead>\n",
       "    <tr style=\"text-align: right;\">\n",
       "      <th></th>\n",
       "      <th>name</th>\n",
       "      <th>address</th>\n",
       "      <th>zipcode</th>\n",
       "      <th>rating</th>\n",
       "      <th>review_count</th>\n",
       "    </tr>\n",
       "  </thead>\n",
       "  <tbody>\n",
       "    <tr>\n",
       "      <th>389</th>\n",
       "      <td>Diplomat</td>\n",
       "      <td>6621 Montezuma Rd San Diego, CA 92115</td>\n",
       "      <td>92115</td>\n",
       "      <td>3.0</td>\n",
       "      <td>8</td>\n",
       "    </tr>\n",
       "    <tr>\n",
       "      <th>700</th>\n",
       "      <td>Pack &amp; Park</td>\n",
       "      <td>12675 Sunset Dr Escondido, CA 92025</td>\n",
       "      <td>92025</td>\n",
       "      <td>3.0</td>\n",
       "      <td>1</td>\n",
       "    </tr>\n",
       "    <tr>\n",
       "      <th>701</th>\n",
       "      <td>AVA Pacific Beach</td>\n",
       "      <td>3883 Ingraham St San Diego, CA 92109</td>\n",
       "      <td>92109</td>\n",
       "      <td>3.0</td>\n",
       "      <td>266</td>\n",
       "    </tr>\n",
       "    <tr>\n",
       "      <th>171</th>\n",
       "      <td>Presidio Hills Golf Course</td>\n",
       "      <td>4136 Wallace St San Diego, CA 92110</td>\n",
       "      <td>92110</td>\n",
       "      <td>3.0</td>\n",
       "      <td>29</td>\n",
       "    </tr>\n",
       "    <tr>\n",
       "      <th>210</th>\n",
       "      <td>Serra Mesa Recreation Center</td>\n",
       "      <td>9020 Village Glen Dr San Diego, CA 92123</td>\n",
       "      <td>92123</td>\n",
       "      <td>3.0</td>\n",
       "      <td>7</td>\n",
       "    </tr>\n",
       "    <tr>\n",
       "      <th>...</th>\n",
       "      <td>...</td>\n",
       "      <td>...</td>\n",
       "      <td>...</td>\n",
       "      <td>...</td>\n",
       "      <td>...</td>\n",
       "    </tr>\n",
       "    <tr>\n",
       "      <th>543</th>\n",
       "      <td>Guadalupana Memorial Chapel</td>\n",
       "      <td>2601 Imperial Ave San Diego, CA 92102</td>\n",
       "      <td>92102</td>\n",
       "      <td>5.0</td>\n",
       "      <td>1</td>\n",
       "    </tr>\n",
       "    <tr>\n",
       "      <th>547</th>\n",
       "      <td>Keiller Leadership Academy</td>\n",
       "      <td>7270 Lisbon St San Diego, CA 92114</td>\n",
       "      <td>92114</td>\n",
       "      <td>5.0</td>\n",
       "      <td>2</td>\n",
       "    </tr>\n",
       "    <tr>\n",
       "      <th>549</th>\n",
       "      <td>Brown's Grove</td>\n",
       "      <td>7245 Calle Cristobal San Diego, CA 92126</td>\n",
       "      <td>92126</td>\n",
       "      <td>5.0</td>\n",
       "      <td>1</td>\n",
       "    </tr>\n",
       "    <tr>\n",
       "      <th>680</th>\n",
       "      <td>Medina Moroccan-Baja Kitchen</td>\n",
       "      <td>2850 El Cajon Blvd Ste 4 San Diego, CA 92104</td>\n",
       "      <td>92104</td>\n",
       "      <td>5.0</td>\n",
       "      <td>187</td>\n",
       "    </tr>\n",
       "    <tr>\n",
       "      <th>832</th>\n",
       "      <td>Fairbrook Farm</td>\n",
       "      <td>4949 S Mission Rd Fallbrook, CA 92028</td>\n",
       "      <td>92028</td>\n",
       "      <td>5.0</td>\n",
       "      <td>1</td>\n",
       "    </tr>\n",
       "  </tbody>\n",
       "</table>\n",
       "<p>775 rows × 5 columns</p>\n",
       "</div>"
      ],
      "text/plain": [
       "                             name  \\\n",
       "389                      Diplomat   \n",
       "700                   Pack & Park   \n",
       "701             AVA Pacific Beach   \n",
       "171    Presidio Hills Golf Course   \n",
       "210  Serra Mesa Recreation Center   \n",
       "..                            ...   \n",
       "543   Guadalupana Memorial Chapel   \n",
       "547    Keiller Leadership Academy   \n",
       "549                 Brown's Grove   \n",
       "680  Medina Moroccan-Baja Kitchen   \n",
       "832                Fairbrook Farm   \n",
       "\n",
       "                                          address zipcode  rating  \\\n",
       "389         6621 Montezuma Rd San Diego, CA 92115   92115     3.0   \n",
       "700           12675 Sunset Dr Escondido, CA 92025   92025     3.0   \n",
       "701          3883 Ingraham St San Diego, CA 92109   92109     3.0   \n",
       "171           4136 Wallace St San Diego, CA 92110   92110     3.0   \n",
       "210      9020 Village Glen Dr San Diego, CA 92123   92123     3.0   \n",
       "..                                            ...     ...     ...   \n",
       "543         2601 Imperial Ave San Diego, CA 92102   92102     5.0   \n",
       "547            7270 Lisbon St San Diego, CA 92114   92114     5.0   \n",
       "549      7245 Calle Cristobal San Diego, CA 92126   92126     5.0   \n",
       "680  2850 El Cajon Blvd Ste 4 San Diego, CA 92104   92104     5.0   \n",
       "832         4949 S Mission Rd Fallbrook, CA 92028   92028     5.0   \n",
       "\n",
       "     review_count  \n",
       "389             8  \n",
       "700             1  \n",
       "701           266  \n",
       "171            29  \n",
       "210             7  \n",
       "..            ...  \n",
       "543             1  \n",
       "547             2  \n",
       "549             1  \n",
       "680           187  \n",
       "832             1  \n",
       "\n",
       "[775 rows x 5 columns]"
      ]
     },
     "execution_count": 15,
     "metadata": {},
     "output_type": "execute_result"
    }
   ],
   "source": [
    "df_over3.sort_values(by='rating', ascending=True)"
   ]
  },
  {
   "cell_type": "code",
   "execution_count": 16,
   "metadata": {},
   "outputs": [
    {
     "data": {
      "text/plain": [
       "92101    119\n",
       "92037     41\n",
       "92104     41\n",
       "92109     35\n",
       "92130     30\n",
       "        ... \n",
       "92627      1\n",
       "91914      1\n",
       "92039      1\n",
       "92004      1\n",
       "91763      1\n",
       "Name: zipcode, Length: 103, dtype: int64"
      ]
     },
     "execution_count": 16,
     "metadata": {},
     "output_type": "execute_result"
    }
   ],
   "source": [
    "df_over3['zipcode'].value_counts()"
   ]
  },
  {
   "cell_type": "code",
   "execution_count": 17,
   "metadata": {},
   "outputs": [
    {
     "data": {
      "text/plain": [
       "array([[<matplotlib.axes._subplots.AxesSubplot object at 0x7f893d678610>,\n",
       "        <matplotlib.axes._subplots.AxesSubplot object at 0x7f893d638550>],\n",
       "       [<matplotlib.axes._subplots.AxesSubplot object at 0x7f893d5ebbd0>,\n",
       "        <matplotlib.axes._subplots.AxesSubplot object at 0x7f893d5af210>]],\n",
       "      dtype=object)"
      ]
     },
     "execution_count": 17,
     "metadata": {},
     "output_type": "execute_result"
    },
    {
     "data": {
      "image/png": "[encoded data removed]",
      "text/plain": [
       "<Figure size 576x432 with 4 Axes>"
      ]
     },
     "metadata": {},
     "output_type": "display_data"
    }
   ],
   "source": [
    "pd.plotting.scatter_matrix(df_over3, figsize = (8, 6))"
   ]
  },
  {
   "cell_type": "markdown",
   "metadata": {},
   "source": [
    "There is a large amount of reviews of satisfied parks( a lot of 4's and many 5's)."
   ]
  },
  {
   "cell_type": "code",
   "execution_count": 19,
   "metadata": {},
   "outputs": [
    {
     "data": {
      "image/png": "[encoded data removed]",
      "text/plain": [
       "<Figure size 432x288 with 1 Axes>"
      ]
     },
     "metadata": {},
     "output_type": "display_data"
    }
   ],
   "source": [
    "satisfied = [119, 39, 38, 33, 29]\n",
    "dissatisfied = [16, 8, 8, 6, 5,]\n",
    "index = ['92101', '92108', '92122',\n",
    "          '92110', '92103']\n",
    "df = pd.DataFrame({'satisfied': satisfied,\n",
    "                    'dissatisfied': dissatisfied}, index=index)\n",
    "ax = df.plot.bar(rot=0)\n"
   ]
  },
  {
   "cell_type": "markdown",
   "metadata": {},
   "source": [
    "Even in the zipcodes with the highest number of dissatifactory parks, there is still a much larger amount of satifactory ones in the same zipcode."
   ]
  },
  {
   "cell_type": "markdown",
   "metadata": {},
   "source": [
    "# Ethics & Privacy"
   ]
  },
  {
   "cell_type": "markdown",
   "metadata": {},
   "source": [
    "The confines of these conclusions did not have any major ethical dilemmas. The links to the actual reviews were taken out when cleaning through the data so that no ones personal Yelp account could be indentified. This analysis showed that even in areas with \"bad\" parks, there are also many \"good\" ones: so it would be difficult to create any prejudice towards a certain area."
   ]
  },
  {
   "cell_type": "markdown",
   "metadata": {},
   "source": [
    "# Conclusion & Discussion"
   ]
  },
  {
   "cell_type": "markdown",
   "metadata": {},
   "source": [
    "With the data provided, it can be seen that there is a much larger amount of satisfactory parks in San Diego county than those that aren't. My hypothesis was wrong. I thought that it would be better to place funding into improving existing parks, but the data shows that there is a large amount of \"good\" ones. Even is someone cosiders a park to be \"bad\", there is still many \"good\" ones within their zipcode. With this information, the San Diego County Parks and Recreations Department is completely justified in allocating funding towards the creation of new parks. To make this experiemnt for accurate, it would have been ideal if there were an equal amount of reviews for every park: somes parks had less then 10 reviews while others had thousands. But overall, it seems that the San Diego population is quite happy with their park system."
   ]
  }
 ],
 "metadata": {
  "kernelspec": {
   "display_name": "Python 3",
   "language": "python",
   "name": "python3"
  },
  "language_info": {
   "codemirror_mode": {
    "name": "ipython",
    "version": 3
   },
   "file_extension": ".py",
   "mimetype": "text/x-python",
   "name": "python",
   "nbconvert_exporter": "python",
   "pygments_lexer": "ipython3",
   "version": "3.7.6"
  }
 },
 "nbformat": 4,
 "nbformat_minor": 2
}
