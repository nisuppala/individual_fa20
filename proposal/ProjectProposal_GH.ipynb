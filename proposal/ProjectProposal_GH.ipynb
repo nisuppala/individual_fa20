{
 "cells": [
  {
   "cell_type": "markdown",
   "metadata": {},
   "source": [
    "# COGS 108 - Project Proposal"
   ]
  },
  {
   "cell_type": "markdown",
   "metadata": {},
   "source": [
    "# Names & GitHub ID\n",
    "\n",
    "- Name: Nihal Suppala",
    "- GitHub Username: nisuppala"
   ]
  },
  {
   "cell_type": "markdown",
   "metadata": {},
   "source": [
    "# Research Question"
   ]
  },
  {
   "cell_type": "markdown",
   "metadata": {},
   "source": [
    "Should the city of San Diego use taxpayer money to construct new parks or update and maintain old ones?"
   ]
  },
  {
   "cell_type": "markdown",
   "metadata": {},
   "source": [
    "## Background and Prior Work"
   ]
  },
  {
   "cell_type": "markdown",
   "metadata": {},
   "source": [
    "*Fill in your background and prior work here. Be sure to specify which statements are from which references.* \n",
    "\n",
    "References (include links):\n",
    "- 1)https://www.sandiegouniontribune.com/business/growth-development/story/2020-04-24/san-diego-shakes-up-citywide-approach-to-parks-with-focus-on-access-amenities\n",
    "- 2)https://www.voiceofsandiego.org/topics/opinion/new-plan-for-city-parks-misses-the-point/"
   ]
  },
  {
   "cell_type": "markdown",
   "metadata": {},
   "source": [
    "# Hypothesis\n"
   ]
  },
  {
   "cell_type": "markdown",
   "metadata": {},
   "source": [
    "I believe that the data provided from acres of park land provied per 1,000 people and surveys concerning public satisfaction will determine that San Diego should update existing parks rather than creating new ones."
   ]
  },
  {
   "cell_type": "markdown",
   "metadata": {},
   "source": [
    "# Data"
   ]
  },
  {
   "cell_type": "markdown",
   "metadata": {},
   "source": [
    "Ideally, I would have access to the amount of land in acres being used for parks in relation to every 1000 people and how this number might change per zipcode. Additionally I would require public satifaction surveys, ideally from around 200 hundred people from every zipcode in San Diego, surveying whether or not residents are satified with the quality of the parks around them."
   ]
  },
  {
   "cell_type": "markdown",
   "metadata": {},
   "source": [
    "# Ethics & Privacy"
   ]
  },
  {
   "cell_type": "markdown",
   "metadata": {},
   "source": [
    "Most of the data that I have asked for will most likely be public information already, so this will not jeopardize anyone's privacy. In case of the satifaction surveys, it will be difficult to protect all information. Obviously names and other types of personal information will be secured, but knowing the zipcode that a participant lives in and is commeting about is essential to the process. Of course measues would be taken to protect all other types of private information."
   ]
  }
 ],
 "metadata": {
  "kernelspec": {
   "display_name": "Python 3",
   "language": "python",
   "name": "python3"
  },
  "language_info": {
   "codemirror_mode": {
    "name": "ipython",
    "version": 3
   },
   "file_extension": ".py",
   "mimetype": "text/x-python",
   "name": "python",
   "nbconvert_exporter": "python",
   "pygments_lexer": "ipython3",
   "version": "3.7.9"
  }
 },
 "nbformat": 4,
 "nbformat_minor": 2
}
