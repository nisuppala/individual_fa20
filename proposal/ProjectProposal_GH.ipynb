{
 "cells": [
  {
   "cell_type": "markdown",
   "metadata": {},
   "source": [
    "# COGS 108 - Project Proposal"
   ]
  },
  {
   "cell_type": "markdown",
   "metadata": {},
   "source": [
    "# Names & GitHub ID\n",
    "\n",
    "- Name: Nihal Suppala",
    "- GitHub Username: nisuppala"
   ]
  },
  {
   "cell_type": "markdown",
   "metadata": {},
   "source": [
    "# Research Question"
   ]
  },
  {
   "cell_type": "markdown",
   "metadata": {},
   "source": [
    "Should the city of San Diego use taxpayer money to construct new parks or update and maintain old ones?"
   ]
  },
  {
   "cell_type": "markdown",
   "metadata": {},
   "source": [
    "## Background and Prior Work"
   ]
  },
  {
   "cell_type": "markdown",
   "metadata": {},
   "source": [
    "San Diego has recently put forward a new plan to overhaul their city parks (1). They are commiting a large amount of taxpayer money to upgrade and create parks. The San Diego Union Tribune reports that average amount of park space throughout the county is 2.8 acres for every 1000 people. San Diego residents seems to already have a problem with their existing parks (2), many clearly stating that their are large inequities between parks in lower vs higher income areas in regards to equipment, ammenities, and well as space provided. The Union Tribune states that the city of San Diego rates its parks on a point basis with takes into account size, featues, and accesibility. The city of San Diego claims they will be creating parks to reach a 12 on their scale. \n",
    "\n",
    "References (include links):\n",
    "- 1)https://www.sandiegouniontribune.com/business/growth-development/story/2020-04-24/san-diego-shakes-up-citywide-approach-to-parks-with-focus-on-access-amenities\n",
    "- 2)https://www.voiceofsandiego.org/topics/opinion/new-plan-for-city-parks-misses-the-point/"
   ]
  },
  {
   "cell_type": "markdown",
   "metadata": {},
   "source": [
    "# Hypothesis\n"
   ]
  },
  {
   "cell_type": "markdown",
   "metadata": {},
   "source": [
    "I believe that the data provided from acres of park land provied per 1,000 people and surveys concerning public satisfaction will determine that San Diego should update existing parks rather than creating new ones."
   ]
  },
  {
   "cell_type": "markdown",
   "metadata": {},
   "source": [
    "# Data"
   ]
  },
  {
   "cell_type": "markdown",
   "metadata": {},
   "source": [
    "Ideally, I would have access to the amount of land in acres being used for parks in relation to every 1000 people and how this number might change per zipcode. Additionally I would require public satifaction surveys, ideally from around 200 hundred people from every zipcode in San Diego, surveying whether or not residents are satified with the quality of the parks around them."
   ]
  },
  {
   "cell_type": "markdown",
   "metadata": {},
   "source": [
    "# Ethics & Privacy"
   ]
  },
  {
   "cell_type": "markdown",
   "metadata": {},
   "source": [
    "Most of the data that I have asked for will most likely be public information already, so this will not jeopardize anyone's privacy. In case of the satifaction surveys, it will be difficult to protect all information. Obviously names and other types of personal information will be secured, but knowing the zipcode that a participant lives in and is commeting about is essential to the process. Of course measues would be taken to protect all other types of private information."
   ]
  }
 ],
 "metadata": {
  "kernelspec": {
   "display_name": "Python 3",
   "language": "python",
   "name": "python3"
  },
  "language_info": {
   "codemirror_mode": {
    "name": "ipython",
    "version": 3
   },
   "file_extension": ".py",
   "mimetype": "text/x-python",
   "name": "python",
   "nbconvert_exporter": "python",
   "pygments_lexer": "ipython3",
   "version": "3.7.9"
  }
 },
 "nbformat": 4,
 "nbformat_minor": 2
}
